{
 "cells": [
  {
   "cell_type": "code",
   "execution_count": 31,
   "outputs": [],
   "source": [
    "import os\n",
    "from PIL import Image\n",
    "import matplotlib.pyplot as plt"
   ],
   "metadata": {
    "collapsed": false,
    "ExecuteTime": {
     "end_time": "2024-05-09T14:55:45.895023Z",
     "start_time": "2024-05-09T14:55:45.888623Z"
    }
   }
  },
  {
   "cell_type": "code",
   "execution_count": 32,
   "outputs": [],
   "source": [
    "def read_images_from_folder(folder_path):\n",
    "    images = []\n",
    "    for filename in sorted(os.listdir(folder_path))[:11]:\n",
    "        if filename.lower().endswith(('.png', '.jpg', '.jpeg', '.bmp')):\n",
    "            image_path = os.path.join(folder_path, filename)\n",
    "            image = Image.open(image_path)\n",
    "            images.append(image)\n",
    "    return images"
   ],
   "metadata": {
    "collapsed": false,
    "ExecuteTime": {
     "end_time": "2024-05-09T14:55:45.895150Z",
     "start_time": "2024-05-09T14:55:45.892261Z"
    }
   }
  },
  {
   "cell_type": "code",
   "execution_count": 33,
   "outputs": [],
   "source": [
    "def create_image_grid(images, folder_names, output_path):\n",
    "    num_folders = len(images)\n",
    "    max_images = max(len(img_list) for img_list in images)\n",
    "\n",
    "    plt.figure(figsize=(10 * num_folders, 8 * max_images))\n",
    "    plt.subplots_adjust(left=0.02, right=0.5, top=0.5, bottom=0.05, wspace=0.01, hspace=0.01)\n",
    "\n",
    "    for i in range(max_images):\n",
    "        for j, folder_images in enumerate(images):\n",
    "            # print(f\"Row: {i+1}, Column: {j+1}, Images: {len(folder_images)}\")\n",
    "            plt.subplot(max_images, num_folders, i * num_folders + j + 1)\n",
    "            if i < len(folder_images):\n",
    "                plt.imshow(folder_images[i])\n",
    "                plt.axis('off')\n",
    "            else:\n",
    "                plt.axis('off')\n",
    "            if i == 0:\n",
    "                plt.title(folder_names[j], fontsize=16)\n",
    "\n",
    "    plt.savefig(output_path, bbox_inches='tight')\n",
    "    plt.close()"
   ],
   "metadata": {
    "collapsed": false,
    "ExecuteTime": {
     "end_time": "2024-05-09T14:55:45.900330Z",
     "start_time": "2024-05-09T14:55:45.896696Z"
    }
   }
  },
  {
   "cell_type": "code",
   "execution_count": 34,
   "outputs": [],
   "source": [
    "folder_paths = [\"Shift_Images\", \"With_Depth_Maps\", \"With_Depth-Anything\", \"With_MiDaS\"]\n",
    "folder_names = [\"Shift Dataset\", \"Utilising Shift Depth-Maps\", \"Estimated Depth-Maps with Depth-Anything\", \"Estimated Depth-Maps with MiDaS\"]\n",
    "output_dir = \"\""
   ],
   "metadata": {
    "collapsed": false,
    "ExecuteTime": {
     "end_time": "2024-05-09T14:55:45.903395Z",
     "start_time": "2024-05-09T14:55:45.900053Z"
    }
   }
  },
  {
   "cell_type": "code",
   "execution_count": 35,
   "outputs": [],
   "source": [
    "images = [read_images_from_folder(folder_path) for folder_path in folder_paths]"
   ],
   "metadata": {
    "collapsed": false,
    "ExecuteTime": {
     "end_time": "2024-05-09T14:55:45.917259Z",
     "start_time": "2024-05-09T14:55:45.903745Z"
    }
   }
  },
  {
   "cell_type": "code",
   "execution_count": 36,
   "outputs": [],
   "source": [
    "output_path = os.path.join(output_dir, \"Combined-grid.png\")\n",
    "create_image_grid(images, folder_names, output_path)"
   ],
   "metadata": {
    "collapsed": false,
    "ExecuteTime": {
     "end_time": "2024-05-09T14:55:51.733827Z",
     "start_time": "2024-05-09T14:55:45.917829Z"
    }
   }
  },
  {
   "cell_type": "code",
   "execution_count": 44,
   "outputs": [],
   "source": [
    "def crop_last_1cm(image_path):\n",
    "    image = Image.open(image_path)\n",
    "    width, height = image.size\n",
    "    left = 0\n",
    "    top = 0\n",
    "    right = width\n",
    "    bottom = height - int(3.8 * image.info['dpi'][1])\n",
    "\n",
    "    cropped_image = image.crop((left, top, right, bottom))\n",
    "    # cropped_image.save(\"Combined-grid.jpg\")\n",
    "    cropped_image.show()\n",
    "\n",
    "image_path = \"Combined-grid.png\"\n",
    "crop_last_1cm(image_path)"
   ],
   "metadata": {
    "collapsed": false,
    "ExecuteTime": {
     "end_time": "2024-05-09T15:04:35.110197Z",
     "start_time": "2024-05-09T15:04:32.412721Z"
    }
   }
  },
  {
   "cell_type": "code",
   "execution_count": null,
   "outputs": [],
   "source": [],
   "metadata": {
    "collapsed": false
   }
  }
 ],
 "metadata": {
  "kernelspec": {
   "display_name": "Python 3",
   "language": "python",
   "name": "python3"
  },
  "language_info": {
   "codemirror_mode": {
    "name": "ipython",
    "version": 2
   },
   "file_extension": ".py",
   "mimetype": "text/x-python",
   "name": "python",
   "nbconvert_exporter": "python",
   "pygments_lexer": "ipython2",
   "version": "2.7.6"
  }
 },
 "nbformat": 4,
 "nbformat_minor": 0
}
